{
 "cells": [
  {
   "cell_type": "code",
   "execution_count": 10,
   "source": [
    "#Libraries\r\n",
    "\r\n",
    "#Dataframe manipulation\r\n",
    "import pandas as pd\r\n",
    "\r\n",
    "#Arrays/numerical functions\r\n",
    "import numpy as np\r\n",
    "\r\n",
    "#String manipulation/Word Embedding\r\n",
    "from tensorflow.keras.preprocessing.sequence import pad_sequences\r\n",
    "from tensorflow.keras.preprocessing.text import Tokenizer\r\n",
    "\r\n",
    "#Neural Network\r\n",
    "from tensorflow.keras.models import Sequential\r\n",
    "from tensorflow.keras.layers import Dense\r\n",
    "from tensorflow.keras.layers import Flatten\r\n",
    "from tensorflow.keras.layers import Dropout\r\n",
    "from tensorflow.keras.layers import Embedding\r\n",
    "from tensorflow.keras.callbacks import EarlyStopping\r\n",
    "\r\n",
    "#Data manipulation\r\n",
    "from sklearn.model_selection import train_test_split\r\n",
    "from sklearn.metrics import classification_report\r\n",
    "\r\n",
    "#Load Dataframe\r\n",
    "data=pd.read_csv(r'spam_or_not_spam.csv')\r\n",
    "data.head()\r\n",
    "data.dropna()\r\n"
   ],
   "outputs": [
    {
     "output_type": "execute_result",
     "data": {
      "text/html": [
       "<div>\n",
       "<style scoped>\n",
       "    .dataframe tbody tr th:only-of-type {\n",
       "        vertical-align: middle;\n",
       "    }\n",
       "\n",
       "    .dataframe tbody tr th {\n",
       "        vertical-align: top;\n",
       "    }\n",
       "\n",
       "    .dataframe thead th {\n",
       "        text-align: right;\n",
       "    }\n",
       "</style>\n",
       "<table border=\"1\" class=\"dataframe\">\n",
       "  <thead>\n",
       "    <tr style=\"text-align: right;\">\n",
       "      <th></th>\n",
       "      <th>email</th>\n",
       "      <th>label</th>\n",
       "    </tr>\n",
       "  </thead>\n",
       "  <tbody>\n",
       "    <tr>\n",
       "      <th>0</th>\n",
       "      <td>mike bostock said received from trackingNUMBE...</td>\n",
       "      <td>0</td>\n",
       "    </tr>\n",
       "    <tr>\n",
       "      <th>1</th>\n",
       "      <td>no i was just a little confused because i m r...</td>\n",
       "      <td>0</td>\n",
       "    </tr>\n",
       "    <tr>\n",
       "      <th>2</th>\n",
       "      <td>this is just an semi educated guess if i m wro...</td>\n",
       "      <td>0</td>\n",
       "    </tr>\n",
       "    <tr>\n",
       "      <th>3</th>\n",
       "      <td>jm URL justin mason writes except for NUMBER t...</td>\n",
       "      <td>0</td>\n",
       "    </tr>\n",
       "    <tr>\n",
       "      <th>4</th>\n",
       "      <td>i just picked up razor sdk NUMBER NUMBER and N...</td>\n",
       "      <td>0</td>\n",
       "    </tr>\n",
       "    <tr>\n",
       "      <th>...</th>\n",
       "      <td>...</td>\n",
       "      <td>...</td>\n",
       "    </tr>\n",
       "    <tr>\n",
       "      <th>1495</th>\n",
       "      <td>abc s good morning america ranks it the NUMBE...</td>\n",
       "      <td>1</td>\n",
       "    </tr>\n",
       "    <tr>\n",
       "      <th>1496</th>\n",
       "      <td>hyperlink hyperlink hyperlink let mortgage le...</td>\n",
       "      <td>1</td>\n",
       "    </tr>\n",
       "    <tr>\n",
       "      <th>1497</th>\n",
       "      <td>thank you for shopping with us gifts for all ...</td>\n",
       "      <td>1</td>\n",
       "    </tr>\n",
       "    <tr>\n",
       "      <th>1498</th>\n",
       "      <td>the famous ebay marketing e course learn to s...</td>\n",
       "      <td>1</td>\n",
       "    </tr>\n",
       "    <tr>\n",
       "      <th>1499</th>\n",
       "      <td>hello this is chinese traditional 子 件 NUMBER世...</td>\n",
       "      <td>1</td>\n",
       "    </tr>\n",
       "  </tbody>\n",
       "</table>\n",
       "<p>1499 rows × 2 columns</p>\n",
       "</div>"
      ],
      "text/plain": [
       "                                                  email  label\n",
       "0      mike bostock said received from trackingNUMBE...      0\n",
       "1      no i was just a little confused because i m r...      0\n",
       "2     this is just an semi educated guess if i m wro...      0\n",
       "3     jm URL justin mason writes except for NUMBER t...      0\n",
       "4     i just picked up razor sdk NUMBER NUMBER and N...      0\n",
       "...                                                 ...    ...\n",
       "1495   abc s good morning america ranks it the NUMBE...      1\n",
       "1496   hyperlink hyperlink hyperlink let mortgage le...      1\n",
       "1497   thank you for shopping with us gifts for all ...      1\n",
       "1498   the famous ebay marketing e course learn to s...      1\n",
       "1499   hello this is chinese traditional 子 件 NUMBER世...      1\n",
       "\n",
       "[1499 rows x 2 columns]"
      ]
     },
     "metadata": {},
     "execution_count": 10
    }
   ],
   "metadata": {}
  },
  {
   "cell_type": "code",
   "execution_count": 11,
   "source": [
    "#Split the columns\r\n",
    "X = data['email'].values\r\n",
    "y = data['label'].values\r\n",
    "X_train, X_test, y_train, y_test = train_test_split(X, y, test_size=0.25, random_state=42)\r\n",
    "\r\n",
    "#Remove any float values from X_test\r\n",
    "X_test=X_test.tolist()\r\n",
    "X_test=list(map(str,X_test))\r\n",
    "X_test=np.array(X_test)\r\n"
   ],
   "outputs": [],
   "metadata": {}
  },
  {
   "cell_type": "code",
   "execution_count": 12,
   "source": [
    "#Split the text of the email to words\r\n",
    "t = Tokenizer()\r\n",
    "t.fit_on_texts(X_train)\r\n"
   ],
   "outputs": [],
   "metadata": {}
  },
  {
   "cell_type": "code",
   "execution_count": 13,
   "source": [
    "#Encode word strings of each email to ints \r\n",
    "encoded_train = t.texts_to_sequences(X_train)\r\n",
    "encoded_test = t.texts_to_sequences(X_test)\r\n",
    "print(encoded_train[0:2])\r\n",
    "\r\n"
   ],
   "outputs": [
    {
     "output_type": "stream",
     "name": "stdout",
     "text": [
      "[[7, 7, 44, 23, 149, 2068, 962, 12, 6, 1593, 4, 58, 1, 3173, 2884, 6449, 14, 59, 9404, 9405, 1168, 5, 278, 9406, 3, 74, 9407, 468, 5142, 9408, 5143, 3626, 13, 557, 12, 72, 5144, 875, 2391, 9409, 25, 6, 1593, 4, 641, 469, 1169, 6449, 10, 152, 65, 2226, 34, 759, 740, 17, 13, 302, 5, 67, 10, 108, 3, 117, 1039, 6, 9410, 1120, 125, 1, 203, 1, 218, 1441, 1, 1, 7, 1, 7, 1, 7], [2885, 38, 296, 523, 64, 18, 41, 143, 352, 15, 41, 79, 2069, 315, 18, 8, 774, 16, 193, 19, 42, 68, 11, 344, 95, 2, 485, 4, 6, 479, 2070, 694, 30, 35, 2886, 1519, 2885, 404, 1121, 3, 16, 1918, 73, 24, 2071, 60, 17, 16, 118, 191, 25, 4170, 267, 2072, 6450, 1783, 396, 98, 72, 1594, 290, 364, 45, 524, 6451, 150, 36, 248, 1, 1, 1, 1, 509, 524, 13, 12, 6, 49, 62, 85, 8, 31, 23, 21, 5145, 226]]\n"
     ]
    }
   ],
   "metadata": {}
  },
  {
   "cell_type": "code",
   "execution_count": 14,
   "source": [
    "max_length = 500\r\n",
    "#Add padding\r\n",
    "padded_train = pad_sequences(encoded_train, maxlen=max_length, padding='post')\r\n",
    "padded_test = pad_sequences(encoded_test, maxlen=max_length, padding='post')\r\n",
    "print(padded_train)"
   ],
   "outputs": [
    {
     "output_type": "stream",
     "name": "stdout",
     "text": [
      "[[    7     7    44 ...     0     0     0]\n",
      " [ 2885    38   296 ...     0     0     0]\n",
      " [13025 13026 13027 ...  1443  4171  4172]\n",
      " ...\n",
      " [    7     7    44 ...     0     0     0]\n",
      " [   89    12   539 ...   684   685     7]\n",
      " [  668     3   913 ...     0     0     0]]\n"
     ]
    }
   ],
   "metadata": {}
  },
  {
   "cell_type": "code",
   "execution_count": 15,
   "source": [
    "vocab_size = len(t.word_index) + 1\r\n",
    "#Sequential Neural network model\r\n",
    "model = Sequential()\r\n",
    "model.add(Embedding(vocab_size, 24, input_length=max_length))\r\n",
    "model.add(Flatten())\r\n",
    "model.add(Dense(500, activation='relu'))\r\n",
    "model.add(Dense(200, activation='relu'))\r\n",
    "model.add(Dropout(0.5))\r\n",
    "model.add(Dense(100, activation='relu'))\r\n",
    "#Binary result (spam/not spam)\r\n",
    "model.add(Dense(1, activation='sigmoid'))\r\n",
    "#Compile the model\r\n",
    "model.compile(optimizer='rmsprop', loss='binary_crossentropy', metrics=['accuracy'])\r\n",
    "print(model.summary())"
   ],
   "outputs": [
    {
     "output_type": "stream",
     "name": "stdout",
     "text": [
      "Model: \"sequential_1\"\n",
      "_________________________________________________________________\n",
      "Layer (type)                 Output Shape              Param #   \n",
      "=================================================================\n",
      "embedding_1 (Embedding)      (None, 500, 24)           485328    \n",
      "_________________________________________________________________\n",
      "flatten_1 (Flatten)          (None, 12000)             0         \n",
      "_________________________________________________________________\n",
      "dense_4 (Dense)              (None, 500)               6000500   \n",
      "_________________________________________________________________\n",
      "dense_5 (Dense)              (None, 200)               100200    \n",
      "_________________________________________________________________\n",
      "dropout_1 (Dropout)          (None, 200)               0         \n",
      "_________________________________________________________________\n",
      "dense_6 (Dense)              (None, 100)               20100     \n",
      "_________________________________________________________________\n",
      "dense_7 (Dense)              (None, 1)                 101       \n",
      "=================================================================\n",
      "Total params: 6,606,229\n",
      "Trainable params: 6,606,229\n",
      "Non-trainable params: 0\n",
      "_________________________________________________________________\n",
      "None\n"
     ]
    }
   ],
   "metadata": {}
  },
  {
   "cell_type": "code",
   "execution_count": 16,
   "source": [
    "early_stop = EarlyStopping(monitor='val_loss', mode='min', verbose=1, patience=10)\r\n",
    "\r\n",
    "#Train the model\r\n",
    "model.fit(x=padded_train,y=y_train,epochs=50,validation_data=(padded_test, y_test), verbose=1,callbacks=[early_stop])"
   ],
   "outputs": [
    {
     "output_type": "stream",
     "name": "stdout",
     "text": [
      "Epoch 1/50\n",
      "36/36 [==============================] - 3s 60ms/step - loss: 0.5320 - accuracy: 0.7458 - val_loss: 0.2411 - val_accuracy: 0.9040\n",
      "Epoch 2/50\n",
      "36/36 [==============================] - 2s 58ms/step - loss: 0.0746 - accuracy: 0.9760 - val_loss: 0.1219 - val_accuracy: 0.9627\n",
      "Epoch 3/50\n",
      "36/36 [==============================] - 2s 57ms/step - loss: 0.0184 - accuracy: 0.9973 - val_loss: 0.1045 - val_accuracy: 0.9627\n",
      "Epoch 4/50\n",
      "36/36 [==============================] - 2s 57ms/step - loss: 0.0103 - accuracy: 0.9964 - val_loss: 0.1423 - val_accuracy: 0.9680\n",
      "Epoch 5/50\n",
      "36/36 [==============================] - 2s 56ms/step - loss: 0.0030 - accuracy: 0.9982 - val_loss: 0.0844 - val_accuracy: 0.9813\n",
      "Epoch 6/50\n",
      "36/36 [==============================] - 2s 56ms/step - loss: 1.1380e-04 - accuracy: 1.0000 - val_loss: 0.1813 - val_accuracy: 0.9627\n",
      "Epoch 7/50\n",
      "36/36 [==============================] - 2s 56ms/step - loss: 4.5718e-04 - accuracy: 1.0000 - val_loss: 0.1188 - val_accuracy: 0.9840\n",
      "Epoch 8/50\n",
      "36/36 [==============================] - 2s 56ms/step - loss: 8.0298e-06 - accuracy: 1.0000 - val_loss: 0.1636 - val_accuracy: 0.9813\n",
      "Epoch 9/50\n",
      "36/36 [==============================] - 2s 56ms/step - loss: 0.0040 - accuracy: 0.9982 - val_loss: 0.2048 - val_accuracy: 0.9760\n",
      "Epoch 10/50\n",
      "36/36 [==============================] - 2s 57ms/step - loss: 6.2771e-06 - accuracy: 1.0000 - val_loss: 0.2013 - val_accuracy: 0.9787\n",
      "Epoch 11/50\n",
      "36/36 [==============================] - 2s 56ms/step - loss: 1.2607e-06 - accuracy: 1.0000 - val_loss: 0.2099 - val_accuracy: 0.9760\n",
      "Epoch 12/50\n",
      "36/36 [==============================] - 2s 56ms/step - loss: 1.4027e-07 - accuracy: 1.0000 - val_loss: 0.2168 - val_accuracy: 0.9760\n",
      "Epoch 13/50\n",
      "36/36 [==============================] - 2s 57ms/step - loss: 1.4263e-07 - accuracy: 1.0000 - val_loss: 0.1762 - val_accuracy: 0.9840\n",
      "Epoch 14/50\n",
      "36/36 [==============================] - 2s 57ms/step - loss: 2.9792e-08 - accuracy: 1.0000 - val_loss: 0.1896 - val_accuracy: 0.9813\n",
      "Epoch 15/50\n",
      "36/36 [==============================] - 2s 56ms/step - loss: 8.0300e-09 - accuracy: 1.0000 - val_loss: 0.2094 - val_accuracy: 0.9813\n",
      "Epoch 00015: early stopping\n"
     ]
    },
    {
     "output_type": "execute_result",
     "data": {
      "text/plain": [
       "<keras.callbacks.History at 0x1ff88db41c0>"
      ]
     },
     "metadata": {},
     "execution_count": 16
    }
   ],
   "metadata": {}
  },
  {
   "cell_type": "code",
   "execution_count": 17,
   "source": [
    "#Propabilities above 0.5 return 1 (binary results)\r\n",
    "preds = (model.predict(padded_test) > 0.5).astype(\"int32\")\r\n"
   ],
   "outputs": [],
   "metadata": {}
  },
  {
   "cell_type": "code",
   "execution_count": 18,
   "source": [
    "#Classification Report\r\n",
    "print(classification_report(y_test, preds))\r\n"
   ],
   "outputs": [
    {
     "output_type": "stream",
     "name": "stdout",
     "text": [
      "              precision    recall  f1-score   support\n",
      "\n",
      "           0       0.98      0.99      0.99       240\n",
      "           1       0.98      0.96      0.97       135\n",
      "\n",
      "    accuracy                           0.98       375\n",
      "   macro avg       0.98      0.98      0.98       375\n",
      "weighted avg       0.98      0.98      0.98       375\n",
      "\n"
     ]
    }
   ],
   "metadata": {}
  }
 ],
 "metadata": {
  "orig_nbformat": 4,
  "language_info": {
   "name": "python",
   "version": "3.9.6",
   "mimetype": "text/x-python",
   "codemirror_mode": {
    "name": "ipython",
    "version": 3
   },
   "pygments_lexer": "ipython3",
   "nbconvert_exporter": "python",
   "file_extension": ".py"
  },
  "kernelspec": {
   "name": "python3",
   "display_name": "Python 3.9.6 64-bit"
  },
  "interpreter": {
   "hash": "3f8c15a33a0828ffd6784083be6fd931a8a6a4f178256646bff498e23a6b1009"
  }
 },
 "nbformat": 4,
 "nbformat_minor": 2
}